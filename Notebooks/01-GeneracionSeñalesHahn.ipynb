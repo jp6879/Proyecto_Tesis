{
 "cells": [
  {
   "cell_type": "markdown",
   "metadata": {},
   "source": [
    "# 1 - Generación de señales de Hahn\n",
    "* Programa de generacion y lectura de datos de señales de RMN Hahn\n",
    "---"
   ]
  },
  {
   "cell_type": "markdown",
   "metadata": {},
   "source": [
    "Importación de paquetes"
   ]
  },
  {
   "cell_type": "code",
   "execution_count": null,
   "metadata": {},
   "outputs": [],
   "source": [
    "using CSV\n",
    "using DataFrames\n",
    "using Plots"
   ]
  },
  {
   "cell_type": "markdown",
   "metadata": {},
   "source": [
    "Constantes útiles para el cálculo de las señales (Las unidades utilzadas estan en μm, s y T)"
   ]
  },
  {
   "cell_type": "code",
   "execution_count": null,
   "metadata": {},
   "outputs": [],
   "source": [
    "γ = 2.675e8  # Factor girómagetico del esín nuclear del proton (s⁻¹T⁻¹) de https://physics.nist.gov/cgi-bin/cuu/Value?gammap\n",
    "G = 8.73e-7  # Gradiente externo (T/μm) de Validating NOGSE’s size distribution predictions in yeast cells Paper 1\n",
    "D0 = 1e3; # Coeficiente de difusión (μm²/s) del Ejercico"
   ]
  },
  {
   "cell_type": "markdown",
   "metadata": {},
   "source": [
    "Primero para generar las señales tenemos que tener una distribución de tamaños de compartimientos lc\n",
    "\n",
    "Generación de distribution log-normal, con parámetros lcm y σ, en este caso lcm es el tamaño medio del compartimiento y σ es la desviación estándar del tamaño del compartimiento\n"
   ]
  },
  {
   "cell_type": "code",
   "execution_count": null,
   "metadata": {},
   "outputs": [],
   "source": [
    "function P(lc, lcm, σ)\n",
    "    \"\"\"Función que genera una distribución log-normal\n",
    "    Parámetros:\n",
    "        lc: tamaño de compartimiento\n",
    "        lcm: tamaño medio de compartimiento\n",
    "        σ: desviación estándar de compartimiento\n",
    "\n",
    "    Retorna:\n",
    "        P(lc): distribución log-normal\n",
    "    \"\"\"\n",
    "    return ( exp( -(log(lc) - log(lcm))^2 / (2σ^2) ) ) / (lc*σ*sqrt(2π))\n",
    "end;"
   ]
  },
  {
   "cell_type": "markdown",
   "metadata": {},
   "source": [
    "Si el tamaño de los compartimientos es único entonces la señal detectada es simplemente la magnetización de Hahn M(t)\n",
    "\n",
    "Función M_l Magnetización de Hahn, para un tiempo t y un tamaño lc"
   ]
  },
  {
   "cell_type": "code",
   "execution_count": null,
   "metadata": {},
   "outputs": [],
   "source": [
    "function Ml_Hahn(t, lc)\n",
    "    \"\"\"Función que genera la magnetización de Hahn\n",
    "    Parámetros:\n",
    "        t: tiempo\n",
    "        lc: tamaño de compartimiento\n",
    "    Retorna:\n",
    "        Ml_Hahn(t, lc): magnetización de Hahn\n",
    "    \"\"\"\n",
    "    τc = lc^2 / (2 * D0) # Tiempo de correlación\n",
    "    term1 = -γ^2 * G^2 * D0 * τc^2\n",
    "    term2 = t - τc * (3 + exp(-t / τc) - 4 * exp(-t / (2 * τc)))\n",
    "    return exp(term1 * term2)\n",
    "end;"
   ]
  },
  {
   "cell_type": "markdown",
   "metadata": {},
   "source": [
    "La señal detectada S(t) es la suma de las señales de Hahn ponderadas por la distribución de tamaños de compartimientos P(lc)\n",
    "\n",
    "Función S_hanh(t) recibe el tamaño medio de compartimiento lcm, la desviación estándar σ, la cantidad de compartimientos N, el tamaño mínimo de compartimiento l0, el tamaño máximo de compartimiento lf y el tiempo t"
   ]
  },
  {
   "cell_type": "code",
   "execution_count": null,
   "metadata": {},
   "outputs": [],
   "source": [
    "function S_han(lcm, σ, N, l0, lf, t)\n",
    "    \"\"\"Función que genera la señal detectada S(t)\n",
    "    Parámetros:\n",
    "        lcm: tamaño medio de compartimiento\n",
    "        σ: desviación estándar de compartimiento\n",
    "        N: cantidad de compartimientos\n",
    "        l0: tamaño mínimo de compartimiento\n",
    "        lf: tamaño máximo de compartimiento\n",
    "        t: tiempo\n",
    "    Retorna:\n",
    "        S: señal detectada\n",
    "    \"\"\"\n",
    "    lc = range(l0, lf, length = N) # Generamos los tamaños de compartimientos lc desde l0 hasta lf\n",
    "\n",
    "    P_lc = P.(lc,lcm, σ) # Consideramos media lcm y ancho σ\n",
    "    \n",
    "    M_lc = Ml_Hahn.(t, lc) # Calculamos M_lc(t) para cada tamaño de compartimiento\n",
    "    \n",
    "    S = sum(M_lc .* P_lc) # Calculamos la señal de Hahn\n",
    "    return S\n",
    "end;"
   ]
  },
  {
   "cell_type": "markdown",
   "metadata": {},
   "source": [
    "Finalmente la función que genera los datos de las señales noramlizadas y las distribuciones de tamaños de compartimientos"
   ]
  },
  {
   "cell_type": "code",
   "execution_count": null,
   "metadata": {},
   "outputs": [],
   "source": [
    "function GenData(N, lcm, σ, l0, lf, t)\n",
    "    \"\"\"Función que genera los datos de las señales normalizadas y las distribuciones de tamaños de compartimientos\n",
    "    Parámetros:\n",
    "        N: cantidad de compartimientos lc\n",
    "        lcm: tamaño medio de compartimiento\n",
    "        σ: desviación estándar de compartimiento\n",
    "        l0: tamaño mínimo de compartimiento\n",
    "        lf: tamaño máximo de compartimiento\n",
    "        time_sim: tiempo máximo de simulación\n",
    "        time_sample_lenght: cantidad de puntos de tiempo\n",
    "    Retorna:\n",
    "        S: señal detectada\n",
    "        P_l: distribución de tamaños de compartimientos\n",
    "    \"\"\"\n",
    "    # Generamos los tamaños de compartimientos\n",
    "    lc = range(l0, lf, length = N)\n",
    "\n",
    "    # Generamos las distribuciones\n",
    "    P_l = P.(lc, lcm, σ)\n",
    "\n",
    "    # Calculamos la señal noramlizadas\n",
    "    S0 = S_han(lcm, σ, N, l0, lf, 0)\n",
    "    S = S_han.(lcm, σ, N, l0, lf, t) ./ S0\n",
    "    return S, P_l\n",
    "end;"
   ]
  },
  {
   "cell_type": "markdown",
   "metadata": {},
   "source": [
    "Ahora generamos los datos en CSV para cada combinación de parámetros en el path especificado, este va a ser el mismo que use para leer los datos"
   ]
  },
  {
   "cell_type": "code",
   "execution_count": null,
   "metadata": {},
   "outputs": [],
   "source": [
    "function GenCSVData(N, l0, lf, t, lcms, σs, path)\n",
    "    \"\"\"Función que genera los datos en CSV para cada combinación de parámetros en el path especificado\n",
    "    Parámetros:\n",
    "        N: cantidad de compartimientos lc\n",
    "        time_sample_lenght: cantidad de puntos de tiempo\n",
    "        l0: tamaño mínimo de compartimiento\n",
    "        lf: tamaño máximo de compartimiento\n",
    "        t: tiempo\n",
    "        lcms: vector de tamaños medios de compartimientos\n",
    "        σs: vector de desviaciones estándar\n",
    "        path: path donde se guardan los datos\n",
    "    Retorna:\n",
    "        CSV: archivos con los datos generados\n",
    "    \"\"\"\n",
    "    # Función auxiliar para llenar con ceros debido a que los vectores de tamaños de compartimientos y señales tienen diferentes longitudes\n",
    "    function fill_missing(value, column, max_lenght)\n",
    "        # Si la longitud de la columna es menor que la longitud máxima, llenamos con ceros\n",
    "        if length(column) < max_lenght\n",
    "            return vcat(column,fill(value, max_lenght - length(column)))\n",
    "        else\n",
    "            return column\n",
    "        end\n",
    "    end\n",
    "\n",
    "    # Generamos los tamaños de compartimientos\n",
    "    l = range(l0, lf, length = N)\n",
    "    # Calculamos la longitud máxima entre los tamaños de compartimientos y las señales (o tiempos)\n",
    "    max_lenght = maximum(length.([l,t]))\n",
    "\n",
    "    # Para cada combinación de tamaños medios de compartimientos y desviaciones estándar\n",
    "    for lcm in lcms\n",
    "        for σ in σs\n",
    "            # Generamos los datos de las señales normalizadas y las distribuciones de tamaños de compartimientos\n",
    "            S, P_l = GenData(N, lcm, σ, l0, lf, t)\n",
    "            # Llenamos con ceros las señales\n",
    "            S = fill_missing(0, S, max_lenght)\n",
    "            # Guardamos todos los datos en un DataFrame\n",
    "            df = DataFrame(S = S, P_l = P_l)\n",
    "            # Guardamos el DataFrame en un archivo CSV\n",
    "            CSV.write(path * \"/$(lcm)_$(σ)l_$N.csv\", df)\n",
    "        end\n",
    "    end\n",
    "end;"
   ]
  },
  {
   "cell_type": "markdown",
   "metadata": {},
   "source": [
    "Estos datos en CSV contienen 2 columnas la primera es la señal y la segunda la distribución de tamaños de compartimientos\n",
    "Como los datos pueden tener un muestreo diferente se rellenan con ceros para que tengan la misma longitud\n",
    "Por esto es importante tener en cuenta el muestreo del tiempo y el de los tamaños de compartimientos"
   ]
  },
  {
   "cell_type": "markdown",
   "metadata": {},
   "source": [
    "Lectura de los datos que se generaron con los mismos parámetros que GenCSVData\n",
    "Esta función acumula todos los archivos generados de las señales y las distribuciones de tamaños de compartimientos especificando cada lcm y σ"
   ]
  },
  {
   "cell_type": "code",
   "execution_count": null,
   "metadata": {},
   "outputs": [],
   "source": [
    "function ReadCSVData(N, l0, lf, t, lcms, σs, path)\n",
    "    \"\"\"Función que lee los datos generados\n",
    "    Parámetros:\n",
    "        N: cantidad de compartimientos lc\n",
    "        time_sample_lenght: cantidad de puntos de tiempo\n",
    "        l0: tamaño mínimo de compartimiento\n",
    "        lf: tamaño máximo de compartimiento\n",
    "        t: tiempo\n",
    "        lcms: vector de tamaños medios de compartimientos\n",
    "        σs: vector de desviaciones estándar\n",
    "        path: path donde se guardan los datos\n",
    "    Retorna:\n",
    "        Probabilitys: distribuciones de tamaños de compartimientos\n",
    "        Signals: señales generadas\n",
    "    \"\"\"\n",
    "    # Generamos los tamaños de compartimientos\n",
    "    lc = range(l0, lf, length = N)\n",
    "    # Calculamos la longitud máxima entre los tamaños de compartimientos y las señales (o tiempos)\n",
    "    length_t = length(t)\n",
    "    length_lc = length(lc)\n",
    "    max_lenght = maximum(length.([t, lc]))\n",
    "\n",
    "    # Inicializamos los arreglos de distribuciones de tamaños de compartimientos y señales\n",
    "    Probabilitys = zeros(length(lcms), length(σs), max_lenght)\n",
    "    Signals = zeros(length(lcms), length(σs), max_lenght)\n",
    "\n",
    "    # Para cada combinación de tamaños medios de compartimientos y desviaciones estándar\n",
    "    for lcm in lcms\n",
    "        for σ in σs\n",
    "            # Leemos los datos de las señales normalizadas y las distribuciones de tamaños de compartimientos\n",
    "            df = CSV.read(path * \"/$(lcm)_$(σ)l_$N.csv\", DataFrame)\n",
    "            # Encontramos los índices de los tamaños medios de compartimientos y desviaciones estándar\n",
    "            # para llenar los arreglos de distribuciones de tamaños de compartimientos y señales\n",
    "            Probabilitys[findall(x -> x == lcm, lcms), findall(x -> x == σ, σs), :] = df.P_l\n",
    "            Signals[findall(x -> x == lcm, lcms), findall(x -> x == σ, σs), :] = df.S\n",
    "\n",
    "        end\n",
    "    end\n",
    "\n",
    "    return Probabilitys, Signals\n",
    "\n",
    "end;"
   ]
  },
  {
   "cell_type": "markdown",
   "metadata": {},
   "source": [
    "# 2 - Generación y guardado de señales de Hahn\n",
    "* Programa que genera y guarda señales de RMN Hahn en archivos CSV para su posterior lectura\n",
    "---"
   ]
  },
  {
   "cell_type": "markdown",
   "metadata": {},
   "source": [
    "## Importación de parámetros\n",
    "* Los parámetros como el tamaño de los compartimientos, la cantidad de compartimientos, el tiempo de muestreo, el tiempo de adquisición, el tamaño mínimo y máximo de los compartimientos, el tamaño medio de los compartimientos y la desviación estándar del tamaño de los compartimientos son importados desde otro programa"
   ]
  },
  {
   "cell_type": "code",
   "execution_count": null,
   "metadata": {},
   "outputs": [],
   "source": [
    "include(\"C:\\\\Users\\\\Propietario\\\\Desktop\\\\ib\\\\Tesis_V1\\\\Proyecto_Tesis\\\\1-GeneracionDeDatos\\\\Parametros.jl\");"
   ]
  },
  {
   "cell_type": "markdown",
   "metadata": {},
   "source": [
    "Se generan los datos utilizando la función GenCSVData pasando los parámetros necesarios y el path donde se van a guardar los datos"
   ]
  },
  {
   "cell_type": "code",
   "execution_count": null,
   "metadata": {},
   "outputs": [],
   "source": [
    "path = \"C:/Users/Propietario/Desktop/ib/Tesis_V1/Proyecto_Tesis/1-GeneracionDeDatos/Datos_Final/datos_crudos\"\n",
    "# GenCSVData(N, time_sample_lenght, l0, lf, t, lcms, σs, path)"
   ]
  },
  {
   "cell_type": "markdown",
   "metadata": {},
   "source": [
    "Como tenemos los datos en CSV usamos la función de lectura de datos para leerlos y que nos devuelva todas las señales y distribuciones de tamaños de compartimientos\n",
    "Para esto utilizamos la función ReadCSVData en el mismo path en el que guardamos las señales anteriormene."
   ]
  },
  {
   "cell_type": "code",
   "execution_count": null,
   "metadata": {},
   "outputs": [],
   "source": [
    "Probabilitys, Signals = ReadCSVData(N, l0, lf, t, lcms, σs, path)"
   ]
  },
  {
   "cell_type": "markdown",
   "metadata": {},
   "source": [
    "# 3 - Rerordenamiento de datos para PCA\n",
    "* Programa que reordena los datos de las señales de RMN Hahn para su posterior análisis con PCA"
   ]
  },
  {
   "cell_type": "markdown",
   "metadata": {},
   "source": [
    "Extraemos datos útiles para realizar este re ordenamiento"
   ]
  },
  {
   "cell_type": "code",
   "execution_count": null,
   "metadata": {},
   "outputs": [],
   "source": [
    "length_σs =  length(σs) # Cantidad de desviaciones estándar\n",
    "length_lcms = length(lcms) # Cantidad de tamaños medios de compartimientos\n",
    "length_t = length(t) # Cantidad de puntos de tiempo\n",
    "max_length = maximum(length.([t, lc])); # Máxima cantidad de puntos de tiempo o tamaños de compartimientos"
   ]
  },
  {
   "cell_type": "markdown",
   "metadata": {},
   "source": [
    "La matriz de datos que creamos tiene 3 dimensiones (tamaños medios de compartimientos, desviaciones estándar y señales o distribuciones de probabilidad)\n",
    "\n",
    "Re organizamos los datos de la siguiente manera, tenemos una matriz de tamaño (dim3, dim1*dim2) es decir (señales/distribuciones, tamaños medios de compartimientos * desviaciones estándar)\n",
    "Los nuevos datos van a ser de la forma, señal/P para lcm 1 y σ 1, señal/P para lcm 2 y σ 1, señal/P para lcm 3 y σ 1, ..., señal/P para lcm 1 y σ 2, señal/P para lcm 2 y σ 2, señal/P para lcm 3 y σ 2, ... Y así hasta terminar con todas las señales y distribuciones"
   ]
  },
  {
   "cell_type": "code",
   "execution_count": null,
   "metadata": {},
   "outputs": [],
   "source": [
    "function reshape_data(old_matrix, old_shape, new_shape)\n",
    "    \"\"\"Función que re organiza los datos de entrada y salida en un formato que podemos guardar en un archivo csv\n",
    "    \n",
    "    Parámetros:\n",
    "        old_matrix: matriz de datos\n",
    "        old_shape: tamaño de la matriz de datos\n",
    "        new_shape: nuevo tamaño de la matriz de datos\n",
    "    \n",
    "    Retorna:\n",
    "        new_matrix: matriz de datos re organizada\n",
    "    \"\"\"\n",
    "    old_matrix = old_matrix\n",
    "    dim1, dim2, dim3 = old_shape # La matriz de datos tiene 3 dimensiones (tamaños medios de compartimientos, desviaciones estándar y señales o distribuciones de probabilidad)\n",
    "    new_matrix = zeros(Float64, dim3, dim1*dim2)\n",
    "\n",
    "    # Re organizamos los datos de la siguiente manera, tenemos una matriz de tamaño (dim3, dim1*dim2) es decir (puntos de tiempo/distribuciones, tamaños medios de compartimientos * desviaciones estándar)\n",
    "    for i in 1:dim1\n",
    "        for j in 1:dim2\n",
    "            for k in 1:dim3\n",
    "                new_matrix[k,(i - 1) * dim2 + j] = old_matrix[i,j,k]\n",
    "            end\n",
    "        end\n",
    "    end\n",
    "\n",
    "    return new_matrix\n",
    "end;"
   ]
  },
  {
   "cell_type": "markdown",
   "metadata": {},
   "source": [
    "Nuevo tamaño de los datos"
   ]
  },
  {
   "cell_type": "code",
   "execution_count": null,
   "metadata": {},
   "outputs": [],
   "source": [
    "new_size = (length_σs * length_lcms, max_length)"
   ]
  },
  {
   "cell_type": "markdown",
   "metadata": {},
   "source": [
    "Ahora si tenemos los datos de entrada y salida es decir las señales y las distribuciones de probabilidad en un formato que podemos guardar en un archivo csv\n",
    "estos datos son todas las señales generadas en las columnas de una matriz\n",
    "y para el otro archivo las distribuciones de tamaños de compartimientos en las columnas de una matriz"
   ]
  },
  {
   "cell_type": "code",
   "execution_count": null,
   "metadata": {},
   "outputs": [],
   "source": [
    "dataSignals = reshape_data(Signals, size(Signals), new_size)\n",
    "dataProbd = reshape_data(Probabilitys, size(Probabilitys), new_size)"
   ]
  },
  {
   "cell_type": "markdown",
   "metadata": {},
   "source": [
    "En un momento para tener aun DataFrame llenamos los datos de la señal con 0s los sacamos de cada columna."
   ]
  },
  {
   "cell_type": "code",
   "execution_count": null,
   "metadata": {},
   "outputs": [],
   "source": [
    "dataSignals = dataSignals[1:length_t, :]"
   ]
  },
  {
   "cell_type": "markdown",
   "metadata": {},
   "source": [
    "Guardamos estos datos en los archivos CSV\n",
    "* Elegir el path donde se van a guardar los datos"
   ]
  },
  {
   "cell_type": "code",
   "execution_count": null,
   "metadata": {},
   "outputs": [],
   "source": [
    "path_save = \"C:\\\\Users\\\\Propietario\\\\Desktop\\\\ib\\\\Tesis_V1\\\\Proyecto_Tesis\\\\1-GeneracionDeDatos\\\\Datos_Final\\\\datos_PCA\";"
   ]
  },
  {
   "cell_type": "code",
   "execution_count": null,
   "metadata": {},
   "outputs": [],
   "source": [
    "df_dataSignals = DataFrame(dataSignals, :auto)\n",
    "df_dataProbd = DataFrame(dataProbd, :auto)"
   ]
  },
  {
   "cell_type": "markdown",
   "metadata": {},
   "source": [
    "Los datos de las señales se generan en un archivo CSV donde tiene en la primera fila el indice de las señales como x1, x2 ... xn y en cada columna los datos de cada una tiempos quedan guardados en el programa Parametros.jl"
   ]
  },
  {
   "cell_type": "code",
   "execution_count": null,
   "metadata": {},
   "outputs": [],
   "source": [
    "CSV.write(path_save * \"\\\\dataSignals.csv\", df_dataSignals)\n",
    "CSV.write(path_save * \"\\\\dataProbd.csv\", df_dataProbd)"
   ]
  }
 ],
 "metadata": {
  "kernelspec": {
   "display_name": "Julia 1.9.1",
   "language": "julia",
   "name": "julia-1.9"
  },
  "language_info": {
   "file_extension": ".jl",
   "mimetype": "application/julia",
   "name": "julia",
   "version": "1.9.1"
  }
 },
 "nbformat": 4,
 "nbformat_minor": 2
}
