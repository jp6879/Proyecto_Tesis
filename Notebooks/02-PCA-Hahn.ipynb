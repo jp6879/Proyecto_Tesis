{
 "cells": [
  {
   "cell_type": "markdown",
   "metadata": {},
   "source": [
    "# 4 - Principal Component Analysis (PCA)\n",
    "* Programa para calcular las componentes principales del conjunto de datos de señales de Hahn.\n",
    "---"
   ]
  },
  {
   "cell_type": "code",
   "execution_count": null,
   "metadata": {},
   "outputs": [],
   "source": [
    "# Importamos los paquetes necesarios\n",
    "using Plots\n",
    "using MultivariateStats\n",
    "using DataFrames\n",
    "using CSV\n",
    "using Statistics\n",
    "using StatsPlots\n",
    "using PlotlyJS\n",
    "using Measures"
   ]
  },
  {
   "cell_type": "markdown",
   "metadata": {},
   "source": [
    "Leemos los datos que habiamos generado en el programa anterior"
   ]
  },
  {
   "cell_type": "code",
   "execution_count": null,
   "metadata": {},
   "outputs": [],
   "source": [
    "# Función que lee los datos de las señales \n",
    "function GetSignals(path_read)\n",
    "    \"\"\"Función que lee los datos que generamos\n",
    "    Parametros\n",
    "        path_read: string con la dirección donde se encuentran los datos\n",
    "    Retorna\n",
    "        dataSignals: matriz con los datos de las señales NxM donde M es el número de señales y N el número de datos por señal\n",
    "    \"\"\"\n",
    "    dataSignals = CSV.read(path_read * \"\\\\dataSignals.csv\", DataFrame)\n",
    "    dataSignals = Matrix(dataSignals)\n",
    "    return dataSignals\n",
    "end;"
   ]
  },
  {
   "cell_type": "code",
   "execution_count": null,
   "metadata": {},
   "outputs": [],
   "source": [
    "# Función que lee los datos de las distribuciones de probabilidad\n",
    "function GetProbd(path_read)\n",
    "    \"\"\"Función que lee los datos que generamos\n",
    "    Parametros\n",
    "        path_read: string con la dirección donde se encuentran los datos\n",
    "    Retorna\n",
    "        dataProbd: matriz con los datos de las distribuciones de probabilidad NxM donde M es el número de distribuciones y N el número de datos por distribución\n",
    "    \"\"\"\n",
    "\n",
    "    dataProbd = CSV.read(path_read * \"\\\\dataProbd.csv\", DataFrame)\n",
    "    dataProbd = Matrix(dataProbd)\n",
    "    return dataProbd\n",
    "end;"
   ]
  },
  {
   "cell_type": "markdown",
   "metadata": {},
   "source": [
    "* Elegir el path donde se encuentran los datos"
   ]
  },
  {
   "cell_type": "code",
   "execution_count": null,
   "metadata": {},
   "outputs": [],
   "source": [
    "path_read = \"C:\\\\Users\\\\Propietario\\\\Desktop\\\\ib\\\\Tesis_V1\\\\Proyecto_Tesis\\\\1-GeneracionDeDatos\\\\Datos_Final\\\\datos_PCA\";"
   ]
  },
  {
   "cell_type": "code",
   "execution_count": null,
   "metadata": {},
   "outputs": [],
   "source": [
    "# Datos de las señales y las distribuciones de probabilidad\n",
    "dataSignals = GetSignals(path_read)\n",
    "dataProbd = GetProbd(path_read);"
   ]
  },
  {
   "cell_type": "markdown",
   "metadata": {},
   "source": [
    "Como en cada columna tenemos los datos de cada combinación de parámetros, es decir cada columna es una señal o una distribución de probabilidad\n",
    "Vamos a centrar los datos de estas columnas para que tengan media 0 practica que se realiza para que PCA funcione optimamente"
   ]
  },
  {
   "cell_type": "code",
   "execution_count": null,
   "metadata": {},
   "outputs": [],
   "source": [
    "function CenterData(Non_C_Matrix)\n",
    "    \"\"\"Función que centra los datos de las columnas de una matriz para que tengan media 0\n",
    "    Parametros\n",
    "        Non_C_Matrix: matriz con los datos a centrar\n",
    "    Retorna\n",
    "        centered_data: matriz con los datos centrados\n",
    "    \"\"\"\n",
    "\tdata_matrix = Non_C_Matrix\n",
    "\tcol_means = mean(data_matrix, dims = 1)\n",
    "\tcentered_data = data_matrix .- col_means\n",
    "\treturn centered_data\n",
    "end"
   ]
  },
  {
   "cell_type": "markdown",
   "metadata": {},
   "source": [
    "## Función que realiza el análisis de componentes principales (PCA) sobre datos"
   ]
  },
  {
   "cell_type": "code",
   "execution_count": null,
   "metadata": {},
   "outputs": [],
   "source": [
    "function PCA_Data(dataIN)\n",
    "    \"\"\"Función que realiza PCA sobre los datos de entrada y grafica la varianza explicada por cada componente principal\n",
    "\n",
    "    Parametros\n",
    "        dataIN: matriz con los datos a los que se les va a realizar PCA\n",
    "    Retorna\n",
    "        reduced_dataIN: datos reducidos por PCA\n",
    "        pca_model: modelo de PCA que se puede usar para reconstruir los datos originales, además contiene información sobre los componentes principale\n",
    "    \"\"\"\n",
    "    # Primero centramos los datos\n",
    "    dataIN_C = CenterData(dataIN)\n",
    "\n",
    "    # Esto ya hace PCA sobre la matriz dada donde cada observación es una columna de la matriz\n",
    "    pca_model = fit(PCA, dataIN_C)\n",
    "\n",
    "    # Esta instancia de PCA tiene distintas funciones como las siguientes\n",
    "\n",
    "    #projIN = projection(pca_model) # Proyección de los datos sobre los componentes principales\n",
    "\n",
    "    # Vector con las contribuciones de cada componente (es decir los autovalores)\n",
    "    pcsIN = principalvars(pca_model)\n",
    "\n",
    "    # Obtenemos la variaza en porcentaje para cada componente principal\n",
    "    explained_varianceIN = pcsIN / sum(pcsIN) * 100\n",
    "\n",
    "    # Grafiquemos esto para ver que tan importante es cada componente principal\n",
    "    display(Plots.bar(explained_varianceIN, title=\"Varianza en porcentaje datos entrada\",label = false, xlabel=\"Componente principal\", ylabel=\"Varianza (%)\"))\n",
    "\n",
    "    reduced_dataIN = MultivariateStats.transform(pca_model, dataIN_C)\n",
    "\n",
    "    return reduced_dataIN, pca_model\n",
    "\n",
    "end;"
   ]
  },
  {
   "cell_type": "markdown",
   "metadata": {},
   "source": [
    "Realizamos PCA sobre los datos de las señales y las distribuciones de probabilidad y guardamos los datos reducidos y el modelo de PCA"
   ]
  },
  {
   "cell_type": "code",
   "execution_count": null,
   "metadata": {},
   "outputs": [],
   "source": [
    "reduced_data_Signals, pca_model_signals = PCA_Data(dataSignals)\n",
    "reduced_data_Probd, pca_model_probd = PCA_Data(dataProbd)"
   ]
  },
  {
   "cell_type": "code",
   "execution_count": null,
   "metadata": {},
   "outputs": [],
   "source": [
    "# Grafico de las varianza acumulada para cada componente principal\n",
    "Plots.plot(cumsum(principalvars(pca_model_signals)) / sum(principalvars(pca_model_signals)) * 100, label = \"Varianza acumulada señales\", legend = :bottomright, xlabel = \"Componentes principales tomadas\", ylabel = \"Varianza acumulada (%)\", tickfontsize=11, labelfontsize=13, legendfontsize=9, framestyle =:box, gridlinewidth=1, xminorticks=10, yminorticks=10, right_margin=5mm, marker = \"o\")\n",
    "#Plots.savefig(\"C:\\\\Users\\\\Propietario\\\\Desktop\\\\ib\\\\5-Maestría\\\\GenData_PCA_Final\\\\Cumulative_Variance_Signals.pdf\")\n",
    "Plots.plot(cumsum(principalvars(pca_model_probd)) / sum(principalvars(pca_model_probd)) * 100, label = \"Varianza acumulada distribuciones de probabilidad\", legend = :bottomright, xlabel = \"Componentes principales tomadas\", ylabel = \"Varianza acumulada (%)\", tickfontsize=11, labelfontsize=13, legendfontsize=9, framestyle =:box, gridlinewidth=1, xminorticks=10, yminorticks=10, right_margin=5mm, marker = \"o\")\n",
    "#Plots.savefig(\"C:\\\\Users\\\\Propietario\\\\Desktop\\\\ib\\\\5-Maestría\\\\GenData_PCA_Final\\\\Cumulative_Variance_Probd.pdf\")"
   ]
  },
  {
   "cell_type": "markdown",
   "metadata": {},
   "source": [
    "* Quiero ver hasta que componente hay una varianza acumulada del 98% para las señales y del 80% para las distribuciones de probabilidad"
   ]
  },
  {
   "cell_type": "code",
   "execution_count": null,
   "metadata": {},
   "outputs": [],
   "source": [
    "# Tomamos todas las componentes principales\n",
    "pcs_vars_s = principalvars(pca_model_signals)\n",
    "pcs_vars_pd = principalvars(pca_model_probd)\n",
    "limdim_S = 0\n",
    "limdim_P = 0\n",
    "# Buscamos el número de componentes principales que nos da la varianza acumulada deseada\n",
    "for i in 1:length(pcs_vars_s)\n",
    "    if sum(pcs_vars_s[1:i]) / sum(pcs_vars_s) * 100 > 99\n",
    "        println(\"La varianza acumulada de las señales es del \", sum(pcs_vars_s[1:i]) / sum(pcs_vars_s) * 100, \"% con \", i, \" componentes principales\")\n",
    "        limdim_S = i\n",
    "        break\n",
    "    end\n",
    "end\n",
    "\n",
    "for i in 1:length(pcs_vars_pd)\n",
    "    if sum(pcs_vars_pd[1:i]) / sum(pcs_vars_pd) * 100 > 80\n",
    "        println(\"La varianza acumulada de las distribuciones de probabilidad es del \", sum(pcs_vars_pd[1:i]) / sum(pcs_vars_pd) * 100, \"% con \", i, \" componentes principales\")\n",
    "        limdim_P = i\n",
    "        break\n",
    "    end\n",
    "end"
   ]
  },
  {
   "cell_type": "markdown",
   "metadata": {},
   "source": [
    "* Guardamos los datos de los componentes principales en un DataFrame"
   ]
  },
  {
   "cell_type": "code",
   "execution_count": null,
   "metadata": {},
   "outputs": [],
   "source": [
    "df_PCA_Signals = DataFrame(reduced_data_Signals, :auto)\n",
    "df_PCA_Probd = DataFrame(reduced_data_Probd, :auto)\n",
    "\n",
    "# Limitamos el número de componentes principales a los que nos dan la varianza acumulada deseada\n",
    "df_PCA_Signals = df_PCA_Signals[1:limdim_S,:]\n",
    "df_PCA_Probd = df_PCA_Probd[1:limdim_P,:]"
   ]
  },
  {
   "cell_type": "code",
   "execution_count": null,
   "metadata": {},
   "outputs": [],
   "source": [
    "# Traemos los parametros fijos desde otro programa para los graficos\n",
    "include(\"C:\\\\Users\\\\Propietario\\\\Desktop\\\\ib\\\\Tesis_V1\\\\Proyecto_Tesis\\\\1-GeneracionDeDatos\\\\Parametros.jl\");"
   ]
  },
  {
   "cell_type": "code",
   "execution_count": null,
   "metadata": {},
   "outputs": [],
   "source": [
    "# Identificación de los datos reducidos según los parámetros utilizados para generar los datos originales lcm y σ\n",
    "dim1 = dimlcm = length(lcms)\n",
    "dim2 = dimσ = length(σs)\n",
    "\n",
    "column_lcm = zeros(dim1*dim2)\n",
    "column_σs = zeros(dim1*dim2)\n",
    "aux_lcm = collect(lcms)\n",
    "aux_σs = collect(σs)\n",
    "\n",
    "# Llenamos los vectores con los valores de los parámetros\n",
    "for i in 1:dim1\n",
    "    for j in 1:dim2\n",
    "        column_lcm[(i - 1)*dim2 + j] = aux_lcm[i]\n",
    "        column_σs[(i - 1)*dim2 + j] = aux_σs[j]\n",
    "    end\n",
    "end"
   ]
  },
  {
   "cell_type": "markdown",
   "metadata": {},
   "source": [
    "## Guardamos la identificacion y los datos transformados en un DataFrame"
   ]
  },
  {
   "cell_type": "code",
   "execution_count": null,
   "metadata": {},
   "outputs": [],
   "source": [
    "df_PCA_Signals = DataFrame(\n",
    "\t\tpc1 = reduced_data_Signals[1, :],\n",
    "\t    pc2 = reduced_data_Signals[2, :],\n",
    "        pc3 = reduced_data_Signals[3, :],\n",
    "\t    σs = column_σs,\n",
    "\t    lcm = column_lcm,\n",
    "\t)\n",
    "\n",
    "df_PCA_Probd = DataFrame(\n",
    "        pc1 = reduced_data_Probd[1, :],\n",
    "        pc2 = reduced_data_Probd[2, :],\n",
    "        pc3 = reduced_data_Probd[3, :],\n",
    "        σs = column_σs,\n",
    "        lcm = column_lcm,\n",
    "    )\n",
    "# Guardamos estos datos en CSV\n",
    "# path_save = \"C:\\\\Users\\\\Propietario\\\\Desktop\\\\ib\\\\Tesis_V1\\\\Proyecto_Tesis\\\\1-GeneracionDeDatos\\\\Datos_Final\\\\datos_PCA\"\n",
    "\n",
    "# Estos datos contienen 4 columnas, 3 con las componentes principales y 2 con la identificacion de los datos\n",
    "# CSV.write(path_save * \"\\\\df_PCA_Signals.csv\", df_PCA_Signals)\n",
    "# CSV.write(path_save * \"\\\\df_PCA_Probd.csv\", df_PCA_Probd)"
   ]
  },
  {
   "cell_type": "markdown",
   "metadata": {},
   "source": [
    "## Algunos graficos en 2d de los datos reducidos e identificados según los parámetros utilizados para generar los datos originales lcm y σ"
   ]
  },
  {
   "cell_type": "code",
   "execution_count": null,
   "metadata": {},
   "outputs": [],
   "source": [
    "plot_lcms_S = @df df_PCA_Signals StatsPlots.scatter(\n",
    "    :pc1,\n",
    "    :pc2,\n",
    "    group = :lcm,\n",
    "    marker = (0.4,5),\n",
    "    xaxis = (title = \"PC1\"),\n",
    "    yaxis = (title = \"PC2\"),\n",
    "    xlabel = \"PC1\",\n",
    "    ylabel = \"PC2\",\n",
    "    labels = false,  # Use the modified labels\n",
    "    title = L\"PCA para $S(t)$ distinguiendo \" * L\"l_{cm}\",\n",
    ")\n",
    "\n",
    "# Plots.savefig(\"C:\\\\Users\\\\Propietario\\\\Desktop\\\\ib\\\\5-Maestría\\\\GenData_PCA_Final\\\\Plots_PCA\\\\PCA_Signals.png\")"
   ]
  },
  {
   "cell_type": "code",
   "execution_count": null,
   "metadata": {},
   "outputs": [],
   "source": [
    "plot_lcms_PD = @df df_PCA_Probd StatsPlots.scatter(\n",
    "    :pc1,\n",
    "    :pc2,\n",
    "    group = :lcm,\n",
    "    marker = (0.4,5),\n",
    "    xaxis = (title = \"PC1\"),\n",
    "    yaxis = (title = \"PC2\"),\n",
    "    xlabel = \"PC1\",\n",
    "    ylabel = \"PC2\",\n",
    "    labels = false,  # Use the modified labels\n",
    "    title = \"PCA para P(lc)\"\n",
    ")\n",
    "\n",
    "PlotlyJS.plot(\n",
    "    df_PCA_Probd, Layout(margin=attr(l=0, r=0, b=0, t=0)),\n",
    "    x=:pc1, y=:pc2, z=:pc3, color=:σs,\n",
    "    type=\"scatter3d\", mode=\"markers\", hoverinfo=\"text\", hovertext=:lcm,\n",
    ")"
   ]
  }
 ],
 "metadata": {
  "kernelspec": {
   "display_name": "Julia 1.9.1",
   "language": "julia",
   "name": "julia-1.9"
  },
  "language_info": {
   "file_extension": ".jl",
   "mimetype": "application/julia",
   "name": "julia",
   "version": "1.9.1"
  }
 },
 "nbformat": 4,
 "nbformat_minor": 2
}
